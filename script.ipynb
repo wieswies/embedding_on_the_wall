{
 "cells": [
  {
   "cell_type": "markdown",
   "id": "879c744459a637c",
   "metadata": {},
   "source": [
    "### Necessary installations"
   ]
  },
  {
   "cell_type": "code",
   "execution_count": 24,
   "id": "c9a46d85-2c83-4744-a848-4f8b813de9c6",
   "metadata": {
    "is_executing": true,
    "tags": []
   },
   "outputs": [],
   "source": [
    "#pip install tensorflow"
   ]
  },
  {
   "cell_type": "code",
   "execution_count": 2,
   "id": "e8f43fc103aa6ced",
   "metadata": {
    "collapsed": false,
    "is_executing": true,
    "jupyter": {
     "outputs_hidden": false
    }
   },
   "outputs": [],
   "source": [
    "#pip install /path/to/requirements.txt"
   ]
  },
  {
   "cell_type": "markdown",
   "id": "5dfc29d8bac52d04",
   "metadata": {},
   "source": [
    "### Necessary imports"
   ]
  },
  {
   "cell_type": "code",
   "execution_count": 3,
   "id": "initial_id",
   "metadata": {
    "ExecuteTime": {
     "end_time": "2024-05-21T08:51:40.241951Z",
     "start_time": "2024-05-21T08:51:39.961004Z"
    },
    "tags": []
   },
   "outputs": [],
   "source": [
    "import pandas as pd\n",
    "import numpy as np\n",
    "from pathlib import Path\n",
    "import openpyxl\n",
    "import os\n",
    "import sys\n",
    "import shutil\n",
    "import time\n",
    "from tqdm import tqdm"
   ]
  },
  {
   "cell_type": "code",
   "execution_count": 4,
   "id": "6c0d107a7a1533a8",
   "metadata": {
    "ExecuteTime": {
     "end_time": "2024-05-21T08:51:43.238678Z",
     "start_time": "2024-05-21T08:51:40.255350Z"
    },
    "collapsed": false,
    "jupyter": {
     "outputs_hidden": false
    },
    "tags": []
   },
   "outputs": [],
   "source": [
    "import cv2\n",
    "import tensorflow as tf\n",
    "from tensorflow.keras import layers\n",
    "from keras.models import load_model\n",
    "from sklearn.utils.class_weight import compute_class_weight\n",
    "from sklearn import neighbors\n",
    "from sklearn.metrics import accuracy_score\n",
    "from sklearn.preprocessing import LabelEncoder\n",
    "from sklearn.decomposition import PCA\n",
    "from sklearn.model_selection import train_test_split, cross_validate\n",
    "from sklearn.linear_model import LogisticRegression\n",
    "from sklearn.svm import LinearSVC\n",
    "from sklearn.neighbors import KNeighborsClassifier\n",
    "from keras_facenet import FaceNet"
   ]
  },
  {
   "cell_type": "code",
   "execution_count": 5,
   "id": "7717720a776cbd57",
   "metadata": {
    "ExecuteTime": {
     "end_time": "2024-05-21T08:51:43.365365Z",
     "start_time": "2024-05-21T08:51:43.239698Z"
    },
    "collapsed": false,
    "jupyter": {
     "outputs_hidden": false
    },
    "tags": []
   },
   "outputs": [
    {
     "name": "stdout",
     "output_type": "stream",
     "text": [
      "TensorFlow version: 2.16.1\n",
      "GPU available: []\n",
      "Python version: 3.12.0 (v3.12.0:0fb18b02c8, Oct  2 2023, 09:45:56) [Clang 13.0.0 (clang-1300.0.29.30)]\n"
     ]
    }
   ],
   "source": [
    "# Check tensorflow version (written in 2.16.1)\n",
    "print(\"TensorFlow version:\", tf.__version__)\n",
    "\n",
    "# Check GPU availability\n",
    "# Unfortunately, tensorflow 2.16 currently does not support GPU for macOS with M2\n",
    "print(\"GPU available:\", tf.config.list_physical_devices('GPU'))\n",
    "\n",
    "# Check python version (written in 3.12)\n",
    "print(f'Python version: {sys.version}')"
   ]
  },
  {
   "cell_type": "markdown",
   "id": "5307566aaa1494b7",
   "metadata": {},
   "source": [
    "### Import methods from methods.py"
   ]
  },
  {
   "cell_type": "code",
   "execution_count": 22,
   "id": "e2b5170c7a663cbd",
   "metadata": {
    "ExecuteTime": {
     "end_time": "2024-05-21T08:51:43.370379Z",
     "start_time": "2024-05-21T08:51:43.366715Z"
    },
    "collapsed": false,
    "jupyter": {
     "outputs_hidden": false
    }
   },
   "outputs": [],
   "source": [
    "from methods import *"
   ]
  },
  {
   "cell_type": "markdown",
   "id": "f23a4c495df544be",
   "metadata": {},
   "source": [
    "##### Set global variables"
   ]
  },
  {
   "cell_type": "code",
   "execution_count": 7,
   "id": "d170607aa80b6044",
   "metadata": {
    "ExecuteTime": {
     "end_time": "2024-05-21T08:51:44.037248Z",
     "start_time": "2024-05-21T08:51:43.374160Z"
    },
    "collapsed": false,
    "jupyter": {
     "outputs_hidden": false
    }
   },
   "outputs": [],
   "source": [
    "embedder = FaceNet()"
   ]
  },
  {
   "cell_type": "markdown",
   "id": "d0aa0e0fa89b26a1",
   "metadata": {},
   "source": [
    "##### Prepare directory"
   ]
  },
  {
   "cell_type": "code",
   "execution_count": 8,
   "id": "29d49a37-d6d7-4600-8dff-162c15901e58",
   "metadata": {},
   "outputs": [],
   "source": [
    "# Method to remove the .DS_Store files that unnoticably appear in the directory\n",
    "def delete_ds_store_files(directory):\n",
    "    for ds_store_file in directory.rglob(\".DS_Store\"):\n",
    "        try:\n",
    "            if ds_store_file.is_file():\n",
    "                ds_store_file.unlink()  # Delete the file\n",
    "                print(f\"Deleted: {ds_store_file}\")\n",
    "            else:\n",
    "                print(f\"Skipping: {ds_store_file} (not a file)\")\n",
    "        except Exception as e:\n",
    "            print(f\"Error deleting {ds_store_file}: {e}\")"
   ]
  },
  {
   "cell_type": "code",
   "execution_count": 10,
   "id": "c44f221f6deffae7",
   "metadata": {
    "ExecuteTime": {
     "end_time": "2024-05-21T08:51:45.823010Z",
     "start_time": "2024-05-21T08:51:45.812022Z"
    },
    "collapsed": false,
    "jupyter": {
     "outputs_hidden": false
    },
    "tags": []
   },
   "outputs": [
    {
     "name": "stdout",
     "output_type": "stream",
     "text": [
      "Deleted: datasets/unique_isolated_pol_faces/.DS_Store\n"
     ]
    }
   ],
   "source": [
    "# Delete .DS_Store files\n",
    "delete_ds_store_files(Path('./datasets/unique_isolated_pol_faces'))"
   ]
  },
  {
   "cell_type": "code",
   "execution_count": null,
   "id": "5c721f13-2c48-4fc3-b9ab-2c47e04b702b",
   "metadata": {},
   "outputs": [],
   "source": []
  },
  {
   "cell_type": "code",
   "execution_count": 11,
   "id": "bb8488ac-156d-481d-8715-0578156cde29",
   "metadata": {},
   "outputs": [],
   "source": [
    "nos_articles_election_period = pd.read_excel('./datasets/nos_articles_election_period.xlsx')"
   ]
  },
  {
   "cell_type": "markdown",
   "id": "42ccdd91-bfd2-494b-a845-2f9f68634609",
   "metadata": {},
   "source": [
    "### Filter out sports articles"
   ]
  },
  {
   "cell_type": "code",
   "execution_count": 19,
   "id": "a2764b2d-04d3-4b31-a23a-3b44fae7a79a",
   "metadata": {},
   "outputs": [],
   "source": [
    "nos_articles_all_categories = sorted(nos_articles_election_period['category'].unique())\n"
   ]
  },
  {
   "cell_type": "code",
   "execution_count": 23,
   "id": "eab468bc-59a6-4cc6-bc7b-85f1256c6357",
   "metadata": {
    "collapsed": true,
    "jupyter": {
     "outputs_hidden": true
    },
    "scrolled": true
   },
   "outputs": [
    {
     "data": {
      "text/plain": [
       "['Alpineskiën',\n",
       " 'American football',\n",
       " 'Atletiek',\n",
       " 'Autosport',\n",
       " 'BMX',\n",
       " 'Baanwielrennen',\n",
       " 'Badminton',\n",
       " 'Basketbal',\n",
       " 'Beachvolleybal',\n",
       " 'Biljarten',\n",
       " 'Boksen',\n",
       " 'Cricket',\n",
       " 'Curling',\n",
       " 'Dammen',\n",
       " 'Darts',\n",
       " 'Futsal',\n",
       " 'Golf',\n",
       " 'Handbal',\n",
       " 'Hockey',\n",
       " 'IJshockey',\n",
       " 'Judo',\n",
       " 'Kanovaren',\n",
       " 'Korfbal',\n",
       " 'Kunstschaatsen',\n",
       " 'Marathonschaatsen',\n",
       " 'Motocross',\n",
       " 'Motorsport',\n",
       " 'Mountainbiken',\n",
       " 'Paardensport',\n",
       " 'Paardensport dressuur',\n",
       " 'Paardensport eventing',\n",
       " 'Paardensport springen',\n",
       " 'Paralympische sport',\n",
       " 'Roeien',\n",
       " 'Rugby',\n",
       " 'Schaatsen',\n",
       " 'Schaken',\n",
       " 'Shorttrack',\n",
       " 'Skateboarden',\n",
       " 'Skeleton',\n",
       " 'Skispringen',\n",
       " 'Snooker',\n",
       " 'Snowboarden',\n",
       " 'Sport algemeen',\n",
       " 'Tafeltennis',\n",
       " 'Tennis',\n",
       " 'Triatlon',\n",
       " 'Turnen',\n",
       " 'Veldrijden',\n",
       " 'Voetbal',\n",
       " 'Waterpolo',\n",
       " 'Zeilen',\n",
       " 'ZwemmenVoetbal']"
      ]
     },
     "execution_count": 23,
     "metadata": {},
     "output_type": "execute_result"
    }
   ],
   "source": [
    "sports_categories"
   ]
  },
  {
   "cell_type": "code",
   "execution_count": null,
   "id": "60db75cc-8821-410a-a530-aee0ee44ef5b",
   "metadata": {},
   "outputs": [],
   "source": []
  }
 ],
 "metadata": {
  "kernelspec": {
   "display_name": "Python 3 (ipykernel)",
   "language": "python",
   "name": "python3"
  },
  "language_info": {
   "codemirror_mode": {
    "name": "ipython",
    "version": 3
   },
   "file_extension": ".py",
   "mimetype": "text/x-python",
   "name": "python",
   "nbconvert_exporter": "python",
   "pygments_lexer": "ipython3",
   "version": "3.12.0"
  }
 },
 "nbformat": 4,
 "nbformat_minor": 5
}
