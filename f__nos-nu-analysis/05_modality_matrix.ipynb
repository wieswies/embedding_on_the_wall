{
 "cells": [
  {
   "cell_type": "code",
   "execution_count": 2,
   "id": "c20cc0a2-50e4-47d3-b6ef-f552b3a26065",
   "metadata": {},
   "outputs": [],
   "source": [
    "from methods_analysis import *"
   ]
  },
  {
   "cell_type": "code",
   "execution_count": 3,
   "id": "0bd63b88-57d3-432a-b4f3-f4575e88b6c3",
   "metadata": {},
   "outputs": [],
   "source": [
    "full_df = pd.read_parquet('datasets/input/full_df_clf_corrected.parquet')\n",
    "pol_img_only = pd.read_parquet('datasets/input/pol_img_only.parquet')\n",
    "pol_img_only_ref_results = pd.read_parquet('datasets/input/pol_img_only_ref_results.parquet')\n",
    "non_pol_img_but_ref = pd.read_parquet('datasets/input/non_pol_img_but_ref.parquet')"
   ]
  },
  {
   "cell_type": "code",
   "execution_count": 4,
   "id": "77e5d0a6-99f2-4d02-8d32-a6e66d432d4a",
   "metadata": {},
   "outputs": [],
   "source": [
    "# Define ordered list based on election results (#seats)\n",
    "all_politicians = [\n",
    "    'Geert Wilders', 'Frans Timmermans', 'Dilan Yesilgöz', 'Pieter Omtzigt',\n",
    "    'Rob Jetten', 'Caroline van der Plas', 'Henri Bontebal', 'Lilian Marijnissen',\n",
    "    'Stephan van Baarle', 'Thierry Baudet', 'Esther Ouwehand', 'Mirjam Bikker',\n",
    "    'Kees van der Staaij', 'Laurens Dassen', 'Joost Eerdmans', 'Edson Olf',\n",
    "    'Wybren van Haga'\n",
    "]\n",
    "\n",
    "all_parties = ['PVV', 'GL-PvdA', 'VVD', 'NSC', 'D66', 'BBB', 'CDA', 'SP', 'DENK', 'FVD', 'PvdD', 'CU', 'SGP', 'Volt', 'JA21', 'Bij1', 'BvNL']\n",
    "\n",
    "politician_party = {\n",
    "    'Geert Wilders': 'PVV',\n",
    "    'Frans Timmermans': 'GL-PvdA',\n",
    "    'Dilan Yesilgöz': 'VVD',\n",
    "    'Pieter Omtzigt': 'NSC',\n",
    "    'Rob Jetten': 'D66',\n",
    "    'Caroline van der Plas': 'BBB',\n",
    "    'Henri Bontebal': 'CDA',\n",
    "    'Lilian Marijnissen': 'SP', \n",
    "    'Stephan van Baarle': 'DENK',\n",
    "    'Thierry Baudet': 'FVD',\n",
    "    'Esther Ouwehand': 'PvdD',\n",
    "    'Mirjam Bikker': 'CU',\n",
    "    'Kees van der Staaij': 'SGP',\n",
    "    'Laurens Dassen': 'Volt',\n",
    "    'Joost Eerdmans': 'JA21',\n",
    "    'Edson Olf': 'Bij1',\n",
    "    'Wybren van Haga': 'BvNL'\n",
    "}"
   ]
  },
  {
   "cell_type": "code",
   "execution_count": null,
   "id": "8a014c4f-8fec-4095-89fb-5cbeaa1aaed5",
   "metadata": {},
   "outputs": [],
   "source": []
  }
 ],
 "metadata": {
  "kernelspec": {
   "display_name": "Python 3 (ipykernel)",
   "language": "python",
   "name": "python3"
  },
  "language_info": {
   "codemirror_mode": {
    "name": "ipython",
    "version": 3
   },
   "file_extension": ".py",
   "mimetype": "text/x-python",
   "name": "python",
   "nbconvert_exporter": "python",
   "pygments_lexer": "ipython3",
   "version": "3.12.0"
  }
 },
 "nbformat": 4,
 "nbformat_minor": 5
}
