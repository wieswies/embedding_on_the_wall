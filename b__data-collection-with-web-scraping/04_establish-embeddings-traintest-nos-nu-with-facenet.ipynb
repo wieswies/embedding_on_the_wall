{
 "cells": [
  {
   "cell_type": "code",
   "execution_count": 38,
   "id": "5bf8ae62-19bc-404d-bd13-7c4278f721a5",
   "metadata": {},
   "outputs": [],
   "source": [
    "from methods_data_collection import *"
   ]
  },
  {
   "cell_type": "code",
   "execution_count": 39,
   "id": "befc6a9b-237e-47ac-9ada-ac3649bfb653",
   "metadata": {},
   "outputs": [],
   "source": [
    "embedder = FN()"
   ]
  },
  {
   "cell_type": "markdown",
   "id": "93467572-378b-4a92-a765-7dac9a3d81e7",
   "metadata": {},
   "source": [
    "This notebook contains the generation of face embeddings for:\n",
    "1. News images (NOS.nl, NU.nl)\n",
    "2. Politician's images after manual correction of the folders in which the politician's faces were stored, such that a fodler that carries a politician's label has pictures of only that politician and that politician eexclusively"
   ]
  },
  {
   "cell_type": "markdown",
   "id": "26cbe964-306d-4bf9-bcc7-4e38213ce3fe",
   "metadata": {},
   "source": [
    "#### News images"
   ]
  },
  {
   "cell_type": "code",
   "execution_count": 4,
   "id": "9879d018-f3d4-46a1-81a0-5cbdc8901594",
   "metadata": {},
   "outputs": [],
   "source": [
    "news_data_folders = ['datasets/images/isolated_news_faces_nos', 'datasets/images/isolated_news_faces_nu']"
   ]
  },
  {
   "cell_type": "code",
   "execution_count": 4,
   "id": "3d9d0bc8-8f25-4af8-b632-3e8c46cfe380",
   "metadata": {
    "collapsed": true,
    "jupyter": {
     "outputs_hidden": true
    }
   },
   "outputs": [
    {
     "data": {
      "application/vnd.jupyter.widget-view+json": {
       "model_id": "b85cb2ca5e4747af862b38060ef9cf07",
       "version_major": 2,
       "version_minor": 0
      },
      "text/plain": [
       "Preparing images:   0%|          | 0/5628 [00:00<?, ?it/s]"
      ]
     },
     "metadata": {},
     "output_type": "display_data"
    },
    {
     "name": "stdout",
     "output_type": "stream",
     "text": [
      "Extracting embeddings...\n",
      "\u001b[1m176/176\u001b[0m \u001b[32m━━━━━━━━━━━━━━━━━━━━\u001b[0m\u001b[37m\u001b[0m \u001b[1m41s\u001b[0m 228ms/step\n",
      "Embeddings extracted.\n"
     ]
    },
    {
     "data": {
      "application/vnd.jupyter.widget-view+json": {
       "model_id": "34fd7b7331b746858fc8f41887f8cd6c",
       "version_major": 2,
       "version_minor": 0
      },
      "text/plain": [
       "Preparing images:   0%|          | 0/5716 [00:00<?, ?it/s]"
      ]
     },
     "metadata": {},
     "output_type": "display_data"
    },
    {
     "name": "stdout",
     "output_type": "stream",
     "text": [
      "Extracting embeddings...\n",
      "\u001b[1m179/179\u001b[0m \u001b[32m━━━━━━━━━━━━━━━━━━━━\u001b[0m\u001b[37m\u001b[0m \u001b[1m41s\u001b[0m 230ms/step\n",
      "Embeddings extracted.\n"
     ]
    }
   ],
   "source": [
    "embeddings_news, dataset_labels, image_filenames, image_paths = [], [], [], []\n",
    "for data_folder in news_data_folders:\n",
    "    if 'nos' in data_folder:\n",
    "        dataset = 'NOS'\n",
    "    else: dataset = 'NU'\n",
    "        \n",
    "    X, y, z, p = get_image_dataset_embeddings(data_folder, dataset, embedder)\n",
    "    embeddings_news.extend(X)\n",
    "    dataset_labels.extend(y)\n",
    "    image_filenames.extend(z)\n",
    "    image_paths.extend(p)"
   ]
  },
  {
   "cell_type": "code",
   "execution_count": 5,
   "id": "bc96038e-052b-4f38-b627-4ea7538e7d0f",
   "metadata": {},
   "outputs": [],
   "source": [
    "df_news_embedded = pd.DataFrame({\n",
    "    'embedding': embeddings_news,\n",
    "    'dataset': dataset_labels,\n",
    "    'image_filename': image_filenames,\n",
    "    'image_path': image_paths\n",
    "})"
   ]
  },
  {
   "cell_type": "code",
   "execution_count": 6,
   "id": "6a955457-a2dd-4c93-a697-f91600a9c102",
   "metadata": {},
   "outputs": [
    {
     "name": "stdout",
     "output_type": "stream",
     "text": [
      "(11343, 4)\n"
     ]
    },
    {
     "data": {
      "text/html": [
       "<div>\n",
       "<style scoped>\n",
       "    .dataframe tbody tr th:only-of-type {\n",
       "        vertical-align: middle;\n",
       "    }\n",
       "\n",
       "    .dataframe tbody tr th {\n",
       "        vertical-align: top;\n",
       "    }\n",
       "\n",
       "    .dataframe thead th {\n",
       "        text-align: right;\n",
       "    }\n",
       "</style>\n",
       "<table border=\"1\" class=\"dataframe\">\n",
       "  <thead>\n",
       "    <tr style=\"text-align: right;\">\n",
       "      <th></th>\n",
       "      <th>embedding</th>\n",
       "      <th>dataset</th>\n",
       "      <th>image_filename</th>\n",
       "      <th>image_path</th>\n",
       "    </tr>\n",
       "  </thead>\n",
       "  <tbody>\n",
       "    <tr>\n",
       "      <th>0</th>\n",
       "      <td>[0.008186146, 0.0068444572, -0.018437376, 0.02...</td>\n",
       "      <td>NOS</td>\n",
       "      <td>2490506_3644.jpg</td>\n",
       "      <td>datasets/images/isolated_news_faces_nos/249050...</td>\n",
       "    </tr>\n",
       "    <tr>\n",
       "      <th>1</th>\n",
       "      <td>[0.09474851, -0.007573621, -0.036899526, 0.064...</td>\n",
       "      <td>NOS</td>\n",
       "      <td>2501898_533.jpg</td>\n",
       "      <td>datasets/images/isolated_news_faces_nos/250189...</td>\n",
       "    </tr>\n",
       "    <tr>\n",
       "      <th>2</th>\n",
       "      <td>[0.0061331107, -0.013596418, -0.008028453, 0.0...</td>\n",
       "      <td>NOS</td>\n",
       "      <td>2493703_2347.jpg</td>\n",
       "      <td>datasets/images/isolated_news_faces_nos/249370...</td>\n",
       "    </tr>\n",
       "  </tbody>\n",
       "</table>\n",
       "</div>"
      ],
      "text/plain": [
       "                                           embedding dataset  \\\n",
       "0  [0.008186146, 0.0068444572, -0.018437376, 0.02...     NOS   \n",
       "1  [0.09474851, -0.007573621, -0.036899526, 0.064...     NOS   \n",
       "2  [0.0061331107, -0.013596418, -0.008028453, 0.0...     NOS   \n",
       "\n",
       "     image_filename                                         image_path  \n",
       "0  2490506_3644.jpg  datasets/images/isolated_news_faces_nos/249050...  \n",
       "1   2501898_533.jpg  datasets/images/isolated_news_faces_nos/250189...  \n",
       "2  2493703_2347.jpg  datasets/images/isolated_news_faces_nos/249370...  "
      ]
     },
     "execution_count": 6,
     "metadata": {},
     "output_type": "execute_result"
    }
   ],
   "source": [
    "print(df_news_embedded.shape)\n",
    "df_news_embedded[:3]"
   ]
  },
  {
   "cell_type": "code",
   "execution_count": 8,
   "id": "a07ea058-98f1-4644-896d-183de5f2ec37",
   "metadata": {},
   "outputs": [],
   "source": [
    "df_news_embedded.to_parquet('datasets/embedded_news_images_nos_nu.parquet')\n",
    "df_news_embedded.to_csv('datasets/embedded_news_images_nos_nu.csv')\n",
    "df_news_embedded.to_excel('datasets/embedded_news_images_nos_nu.xlsx')"
   ]
  },
  {
   "cell_type": "markdown",
   "id": "127de88c-4d30-4952-a04e-644e6e550a55",
   "metadata": {},
   "source": [
    "#### Politician's faces for building a facial recognition train/test set"
   ]
  },
  {
   "cell_type": "code",
   "execution_count": 43,
   "id": "9aca3bae-38ba-4caf-ae17-30a6ce5b92a5",
   "metadata": {},
   "outputs": [
    {
     "name": "stdout",
     "output_type": "stream",
     "text": [
      "Wybren van Haga\n",
      "Stephan van Baarle\n",
      "Joost Eerdmans\n",
      ".DS_Store\n",
      "Rob Jetten\n",
      "Laurens Dassen\n",
      "Thierry Baudet\n",
      "Dilan Yesilgöz\n",
      "Mirjam Bikker\n",
      "Kees van der Staaij\n",
      "Frans Timmermans\n",
      "Henri Bontebal\n",
      "Caroline van der Plas\n",
      "Pieter Omtzigt\n",
      "Unknown\n",
      "Esther Ouwehand\n",
      "Geert Wilders\n",
      "Lilian Marijnissen\n",
      "Edson Olf\n"
     ]
    }
   ],
   "source": [
    "for politician in os.listdir(pol_data_path):\n",
    "    print(politician)"
   ]
  },
  {
   "cell_type": "code",
   "execution_count": 40,
   "id": "efc58eba-db79-4561-b309-c3a4bd5fe3d2",
   "metadata": {
    "collapsed": true,
    "jupyter": {
     "outputs_hidden": true
    }
   },
   "outputs": [
    {
     "data": {
      "application/vnd.jupyter.widget-view+json": {
       "model_id": "74c3887eca0b4ebbb190bb72d9f8135b",
       "version_major": 2,
       "version_minor": 0
      },
      "text/plain": [
       "Preparing images:   0%|          | 0/239 [00:00<?, ?it/s]"
      ]
     },
     "metadata": {},
     "output_type": "display_data"
    },
    {
     "name": "stdout",
     "output_type": "stream",
     "text": [
      "Extracting embeddings...\n",
      "\u001b[1m8/8\u001b[0m \u001b[32m━━━━━━━━━━━━━━━━━━━━\u001b[0m\u001b[37m\u001b[0m \u001b[1m3s\u001b[0m 307ms/step\n",
      "Embeddings extracted.\n"
     ]
    },
    {
     "data": {
      "application/vnd.jupyter.widget-view+json": {
       "model_id": "1212b8f950c640598664d14f2234c1b4",
       "version_major": 2,
       "version_minor": 0
      },
      "text/plain": [
       "Preparing images:   0%|          | 0/178 [00:00<?, ?it/s]"
      ]
     },
     "metadata": {},
     "output_type": "display_data"
    },
    {
     "name": "stdout",
     "output_type": "stream",
     "text": [
      "Extracting embeddings...\n",
      "\u001b[1m6/6\u001b[0m \u001b[32m━━━━━━━━━━━━━━━━━━━━\u001b[0m\u001b[37m\u001b[0m \u001b[1m1s\u001b[0m 196ms/step\n",
      "Embeddings extracted.\n"
     ]
    },
    {
     "data": {
      "application/vnd.jupyter.widget-view+json": {
       "model_id": "5c2397017b4a4a9cb10280e15728fab8",
       "version_major": 2,
       "version_minor": 0
      },
      "text/plain": [
       "Preparing images:   0%|          | 0/286 [00:00<?, ?it/s]"
      ]
     },
     "metadata": {},
     "output_type": "display_data"
    },
    {
     "name": "stdout",
     "output_type": "stream",
     "text": [
      "Extracting embeddings...\n",
      "\u001b[1m9/9\u001b[0m \u001b[32m━━━━━━━━━━━━━━━━━━━━\u001b[0m\u001b[37m\u001b[0m \u001b[1m2s\u001b[0m 215ms/step\n",
      "Embeddings extracted.\n"
     ]
    },
    {
     "data": {
      "application/vnd.jupyter.widget-view+json": {
       "model_id": "aa7618578bfe4a47ad8380b13ae53dab",
       "version_major": 2,
       "version_minor": 0
      },
      "text/plain": [
       "Preparing images:   0%|          | 0/306 [00:00<?, ?it/s]"
      ]
     },
     "metadata": {},
     "output_type": "display_data"
    },
    {
     "name": "stdout",
     "output_type": "stream",
     "text": [
      "Extracting embeddings...\n",
      "\u001b[1m10/10\u001b[0m \u001b[32m━━━━━━━━━━━━━━━━━━━━\u001b[0m\u001b[37m\u001b[0m \u001b[1m2s\u001b[0m 212ms/step\n",
      "Embeddings extracted.\n"
     ]
    },
    {
     "data": {
      "application/vnd.jupyter.widget-view+json": {
       "model_id": "a6680ac9eba74cfda77828d585067a96",
       "version_major": 2,
       "version_minor": 0
      },
      "text/plain": [
       "Preparing images:   0%|          | 0/250 [00:00<?, ?it/s]"
      ]
     },
     "metadata": {},
     "output_type": "display_data"
    },
    {
     "name": "stdout",
     "output_type": "stream",
     "text": [
      "Extracting embeddings...\n",
      "\u001b[1m8/8\u001b[0m \u001b[32m━━━━━━━━━━━━━━━━━━━━\u001b[0m\u001b[37m\u001b[0m \u001b[1m2s\u001b[0m 215ms/step\n",
      "Embeddings extracted.\n"
     ]
    },
    {
     "data": {
      "application/vnd.jupyter.widget-view+json": {
       "model_id": "fcf05d93d12243048cfb269770d0ecdf",
       "version_major": 2,
       "version_minor": 0
      },
      "text/plain": [
       "Preparing images:   0%|          | 0/346 [00:00<?, ?it/s]"
      ]
     },
     "metadata": {},
     "output_type": "display_data"
    },
    {
     "name": "stdout",
     "output_type": "stream",
     "text": [
      "Extracting embeddings...\n",
      "\u001b[1m11/11\u001b[0m \u001b[32m━━━━━━━━━━━━━━━━━━━━\u001b[0m\u001b[37m\u001b[0m \u001b[1m2s\u001b[0m 215ms/step\n",
      "Embeddings extracted.\n"
     ]
    },
    {
     "data": {
      "application/vnd.jupyter.widget-view+json": {
       "model_id": "d204326504f1473ea4d0cacf0cf75aab",
       "version_major": 2,
       "version_minor": 0
      },
      "text/plain": [
       "Preparing images:   0%|          | 0/322 [00:00<?, ?it/s]"
      ]
     },
     "metadata": {},
     "output_type": "display_data"
    },
    {
     "name": "stdout",
     "output_type": "stream",
     "text": [
      "Extracting embeddings...\n",
      "\u001b[1m11/11\u001b[0m \u001b[32m━━━━━━━━━━━━━━━━━━━━\u001b[0m\u001b[37m\u001b[0m \u001b[1m2s\u001b[0m 200ms/step\n",
      "Embeddings extracted.\n"
     ]
    },
    {
     "data": {
      "application/vnd.jupyter.widget-view+json": {
       "model_id": "96672a6c4c124bd4a392dfc5adbf1c05",
       "version_major": 2,
       "version_minor": 0
      },
      "text/plain": [
       "Preparing images:   0%|          | 0/278 [00:00<?, ?it/s]"
      ]
     },
     "metadata": {},
     "output_type": "display_data"
    },
    {
     "name": "stdout",
     "output_type": "stream",
     "text": [
      "Extracting embeddings...\n",
      "\u001b[1m9/9\u001b[0m \u001b[32m━━━━━━━━━━━━━━━━━━━━\u001b[0m\u001b[37m\u001b[0m \u001b[1m2s\u001b[0m 205ms/step\n",
      "Embeddings extracted.\n"
     ]
    },
    {
     "data": {
      "application/vnd.jupyter.widget-view+json": {
       "model_id": "dda9272f0e2c42888a990d3687cb9be3",
       "version_major": 2,
       "version_minor": 0
      },
      "text/plain": [
       "Preparing images:   0%|          | 0/272 [00:00<?, ?it/s]"
      ]
     },
     "metadata": {},
     "output_type": "display_data"
    },
    {
     "name": "stdout",
     "output_type": "stream",
     "text": [
      "Extracting embeddings...\n",
      "\u001b[1m9/9\u001b[0m \u001b[32m━━━━━━━━━━━━━━━━━━━━\u001b[0m\u001b[37m\u001b[0m \u001b[1m2s\u001b[0m 220ms/step\n",
      "Embeddings extracted.\n"
     ]
    },
    {
     "data": {
      "application/vnd.jupyter.widget-view+json": {
       "model_id": "75e3dd80cd104e918c7e77aeb38a8ca9",
       "version_major": 2,
       "version_minor": 0
      },
      "text/plain": [
       "Preparing images:   0%|          | 0/313 [00:00<?, ?it/s]"
      ]
     },
     "metadata": {},
     "output_type": "display_data"
    },
    {
     "name": "stdout",
     "output_type": "stream",
     "text": [
      "Extracting embeddings...\n",
      "\u001b[1m10/10\u001b[0m \u001b[32m━━━━━━━━━━━━━━━━━━━━\u001b[0m\u001b[37m\u001b[0m \u001b[1m2s\u001b[0m 227ms/step\n",
      "Embeddings extracted.\n"
     ]
    },
    {
     "data": {
      "application/vnd.jupyter.widget-view+json": {
       "model_id": "99b499d21c89401cb92728e263b17198",
       "version_major": 2,
       "version_minor": 0
      },
      "text/plain": [
       "Preparing images:   0%|          | 0/234 [00:00<?, ?it/s]"
      ]
     },
     "metadata": {},
     "output_type": "display_data"
    },
    {
     "name": "stdout",
     "output_type": "stream",
     "text": [
      "Extracting embeddings...\n",
      "\u001b[1m8/8\u001b[0m \u001b[32m━━━━━━━━━━━━━━━━━━━━\u001b[0m\u001b[37m\u001b[0m \u001b[1m2s\u001b[0m 211ms/step\n",
      "Embeddings extracted.\n"
     ]
    },
    {
     "data": {
      "application/vnd.jupyter.widget-view+json": {
       "model_id": "46c8867cae40419481c9c9933f267622",
       "version_major": 2,
       "version_minor": 0
      },
      "text/plain": [
       "Preparing images:   0%|          | 0/332 [00:00<?, ?it/s]"
      ]
     },
     "metadata": {},
     "output_type": "display_data"
    },
    {
     "name": "stdout",
     "output_type": "stream",
     "text": [
      "Extracting embeddings...\n",
      "\u001b[1m11/11\u001b[0m \u001b[32m━━━━━━━━━━━━━━━━━━━━\u001b[0m\u001b[37m\u001b[0m \u001b[1m2s\u001b[0m 212ms/step\n",
      "Embeddings extracted.\n"
     ]
    },
    {
     "data": {
      "application/vnd.jupyter.widget-view+json": {
       "model_id": "a1ebd168c8fb4706809ac1c78182dab8",
       "version_major": 2,
       "version_minor": 0
      },
      "text/plain": [
       "Preparing images:   0%|          | 0/321 [00:00<?, ?it/s]"
      ]
     },
     "metadata": {},
     "output_type": "display_data"
    },
    {
     "name": "stdout",
     "output_type": "stream",
     "text": [
      "Extracting embeddings...\n",
      "\u001b[1m10/10\u001b[0m \u001b[32m━━━━━━━━━━━━━━━━━━━━\u001b[0m\u001b[37m\u001b[0m \u001b[1m2s\u001b[0m 230ms/step\n",
      "Embeddings extracted.\n"
     ]
    },
    {
     "data": {
      "application/vnd.jupyter.widget-view+json": {
       "model_id": "3f046f8a18a746bb8299a86359c25b5d",
       "version_major": 2,
       "version_minor": 0
      },
      "text/plain": [
       "Preparing images:   0%|          | 0/840 [00:00<?, ?it/s]"
      ]
     },
     "metadata": {},
     "output_type": "display_data"
    },
    {
     "name": "stdout",
     "output_type": "stream",
     "text": [
      "Extracting embeddings...\n",
      "\u001b[1m27/27\u001b[0m \u001b[32m━━━━━━━━━━━━━━━━━━━━\u001b[0m\u001b[37m\u001b[0m \u001b[1m6s\u001b[0m 216ms/step\n",
      "Embeddings extracted.\n"
     ]
    },
    {
     "data": {
      "application/vnd.jupyter.widget-view+json": {
       "model_id": "5085a05c91c746feb83fdca224fe75aa",
       "version_major": 2,
       "version_minor": 0
      },
      "text/plain": [
       "Preparing images:   0%|          | 0/303 [00:00<?, ?it/s]"
      ]
     },
     "metadata": {},
     "output_type": "display_data"
    },
    {
     "name": "stdout",
     "output_type": "stream",
     "text": [
      "Extracting embeddings...\n",
      "\u001b[1m10/10\u001b[0m \u001b[32m━━━━━━━━━━━━━━━━━━━━\u001b[0m\u001b[37m\u001b[0m \u001b[1m2s\u001b[0m 215ms/step\n",
      "Embeddings extracted.\n"
     ]
    },
    {
     "data": {
      "application/vnd.jupyter.widget-view+json": {
       "model_id": "af7fa6e19274477eb3cd307b99226b49",
       "version_major": 2,
       "version_minor": 0
      },
      "text/plain": [
       "Preparing images:   0%|          | 0/340 [00:00<?, ?it/s]"
      ]
     },
     "metadata": {},
     "output_type": "display_data"
    },
    {
     "name": "stdout",
     "output_type": "stream",
     "text": [
      "Extracting embeddings...\n",
      "\u001b[1m11/11\u001b[0m \u001b[32m━━━━━━━━━━━━━━━━━━━━\u001b[0m\u001b[37m\u001b[0m \u001b[1m2s\u001b[0m 220ms/step\n",
      "Embeddings extracted.\n"
     ]
    },
    {
     "data": {
      "application/vnd.jupyter.widget-view+json": {
       "model_id": "b840c30aaaed467487dc9f8e29416132",
       "version_major": 2,
       "version_minor": 0
      },
      "text/plain": [
       "Preparing images:   0%|          | 0/344 [00:00<?, ?it/s]"
      ]
     },
     "metadata": {},
     "output_type": "display_data"
    },
    {
     "name": "stdout",
     "output_type": "stream",
     "text": [
      "Extracting embeddings...\n",
      "\u001b[1m11/11\u001b[0m \u001b[32m━━━━━━━━━━━━━━━━━━━━\u001b[0m\u001b[37m\u001b[0m \u001b[1m2s\u001b[0m 221ms/step\n",
      "Embeddings extracted.\n"
     ]
    },
    {
     "data": {
      "application/vnd.jupyter.widget-view+json": {
       "model_id": "239cb8e2e3084933a5baed90f982877a",
       "version_major": 2,
       "version_minor": 0
      },
      "text/plain": [
       "Preparing images:   0%|          | 0/45 [00:00<?, ?it/s]"
      ]
     },
     "metadata": {},
     "output_type": "display_data"
    },
    {
     "name": "stdout",
     "output_type": "stream",
     "text": [
      "Extracting embeddings...\n",
      "\u001b[1m2/2\u001b[0m \u001b[32m━━━━━━━━━━━━━━━━━━━━\u001b[0m\u001b[37m\u001b[0m \u001b[1m0s\u001b[0m 117ms/step\n",
      "Embeddings extracted.\n"
     ]
    }
   ],
   "source": [
    "pol_data_path = 'datasets/images/isolated_train_faces_scraped_manually_corrected'\n",
    "embeddings_pol, pol_labels, pol_image_filenames, pol_image_paths = [], [], [], []\n",
    "\n",
    "for politician in os.listdir(pol_data_path):\n",
    "    if politician == '.DS_Store':\n",
    "        continue\n",
    "\n",
    "    dataset = politician\n",
    "    data_folder = os.path.join(pol_data_path, politician)\n",
    "\n",
    "    X, y, z, p = get_image_dataset_embeddings(data_folder, dataset, embedder)\n",
    "    embeddings_pol.extend(X)\n",
    "    pol_labels.extend(y)\n",
    "    pol_image_filenames.extend(z)\n",
    "    pol_image_paths.extend(p)"
   ]
  },
  {
   "cell_type": "code",
   "execution_count": 41,
   "id": "d0f6b463-9788-483a-b807-0b52d6c68f39",
   "metadata": {},
   "outputs": [],
   "source": [
    "df_pol_embedded = pd.DataFrame({\n",
    "    'embedding': embeddings_pol,\n",
    "    'dataset': pol_labels,\n",
    "    'image_filename': pol_image_filenames,\n",
    "    'image_path': pol_image_paths\n",
    "})"
   ]
  },
  {
   "cell_type": "code",
   "execution_count": 42,
   "id": "77edc883-d5c6-4c07-be8f-17c9e151905f",
   "metadata": {},
   "outputs": [
    {
     "name": "stdout",
     "output_type": "stream",
     "text": [
      "(5531, 4)\n"
     ]
    },
    {
     "data": {
      "text/html": [
       "<div>\n",
       "<style scoped>\n",
       "    .dataframe tbody tr th:only-of-type {\n",
       "        vertical-align: middle;\n",
       "    }\n",
       "\n",
       "    .dataframe tbody tr th {\n",
       "        vertical-align: top;\n",
       "    }\n",
       "\n",
       "    .dataframe thead th {\n",
       "        text-align: right;\n",
       "    }\n",
       "</style>\n",
       "<table border=\"1\" class=\"dataframe\">\n",
       "  <thead>\n",
       "    <tr style=\"text-align: right;\">\n",
       "      <th></th>\n",
       "      <th>embedding</th>\n",
       "      <th>dataset</th>\n",
       "      <th>image_filename</th>\n",
       "      <th>image_path</th>\n",
       "    </tr>\n",
       "  </thead>\n",
       "  <tbody>\n",
       "    <tr>\n",
       "      <th>2564</th>\n",
       "      <td>[0.07349369, -0.026461508, -0.029828751, 0.006...</td>\n",
       "      <td>Frans Timmermans</td>\n",
       "      <td>Frans Timmermans_2262.jpg</td>\n",
       "      <td>datasets/images/isolated_train_faces_scraped_m...</td>\n",
       "    </tr>\n",
       "    <tr>\n",
       "      <th>2565</th>\n",
       "      <td>[0.079178125, -0.00815514, -0.024243357, -0.02...</td>\n",
       "      <td>Frans Timmermans</td>\n",
       "      <td>Frans Timmermans_4607.jpg</td>\n",
       "      <td>datasets/images/isolated_train_faces_scraped_m...</td>\n",
       "    </tr>\n",
       "    <tr>\n",
       "      <th>2566</th>\n",
       "      <td>[0.081870005, 0.03145991, -0.0023250324, -0.01...</td>\n",
       "      <td>Frans Timmermans</td>\n",
       "      <td>Frans Timmermans_2276.jpg</td>\n",
       "      <td>datasets/images/isolated_train_faces_scraped_m...</td>\n",
       "    </tr>\n",
       "  </tbody>\n",
       "</table>\n",
       "</div>"
      ],
      "text/plain": [
       "                                              embedding           dataset  \\\n",
       "2564  [0.07349369, -0.026461508, -0.029828751, 0.006...  Frans Timmermans   \n",
       "2565  [0.079178125, -0.00815514, -0.024243357, -0.02...  Frans Timmermans   \n",
       "2566  [0.081870005, 0.03145991, -0.0023250324, -0.01...  Frans Timmermans   \n",
       "\n",
       "                 image_filename  \\\n",
       "2564  Frans Timmermans_2262.jpg   \n",
       "2565  Frans Timmermans_4607.jpg   \n",
       "2566  Frans Timmermans_2276.jpg   \n",
       "\n",
       "                                             image_path  \n",
       "2564  datasets/images/isolated_train_faces_scraped_m...  \n",
       "2565  datasets/images/isolated_train_faces_scraped_m...  \n",
       "2566  datasets/images/isolated_train_faces_scraped_m...  "
      ]
     },
     "execution_count": 42,
     "metadata": {},
     "output_type": "execute_result"
    }
   ],
   "source": [
    "print(df_pol_embedded.shape)\n",
    "df_pol_embedded[2564:2567]"
   ]
  },
  {
   "cell_type": "markdown",
   "id": "db455311-e4b1-4003-b67b-2d93e135be8d",
   "metadata": {},
   "source": [
    "##### Delete duplicate embeddings\n",
    "For the train/test phase in building a model, it is very important to guarantee all embeddings are unique, and no same embeddings appear in both train and test set"
   ]
  },
  {
   "cell_type": "code",
   "execution_count": 44,
   "id": "e6be3b90-a1b9-44d0-b81b-b27c3c5a27ec",
   "metadata": {},
   "outputs": [
    {
     "name": "stdout",
     "output_type": "stream",
     "text": [
      "Duplicates removed, if any. Remaining rows: 4287\n"
     ]
    }
   ],
   "source": [
    "df_pol_embedded['embedding_tuple'] = df_pol_embedded['embedding'].apply(lambda x: tuple(x))\n",
    "\n",
    "df_pol_embedded.drop_duplicates(subset='embedding_tuple', keep='first', inplace=True)\n",
    "\n",
    "df_pol_embedded.drop(columns=['embedding_tuple'], inplace=True)\n",
    "\n",
    "print(\"Duplicates removed, if any. Remaining rows:\", len(df_pol_embedded))"
   ]
  },
  {
   "cell_type": "code",
   "execution_count": 45,
   "id": "858cfe9f-7a05-4ba7-b0ea-6fa2f6c1d2eb",
   "metadata": {},
   "outputs": [
    {
     "name": "stdout",
     "output_type": "stream",
     "text": [
      "(4287, 4)\n"
     ]
    },
    {
     "data": {
      "text/html": [
       "<div>\n",
       "<style scoped>\n",
       "    .dataframe tbody tr th:only-of-type {\n",
       "        vertical-align: middle;\n",
       "    }\n",
       "\n",
       "    .dataframe tbody tr th {\n",
       "        vertical-align: top;\n",
       "    }\n",
       "\n",
       "    .dataframe thead th {\n",
       "        text-align: right;\n",
       "    }\n",
       "</style>\n",
       "<table border=\"1\" class=\"dataframe\">\n",
       "  <thead>\n",
       "    <tr style=\"text-align: right;\">\n",
       "      <th></th>\n",
       "      <th>embedding</th>\n",
       "      <th>dataset</th>\n",
       "      <th>image_filename</th>\n",
       "      <th>image_path</th>\n",
       "    </tr>\n",
       "  </thead>\n",
       "  <tbody>\n",
       "    <tr>\n",
       "      <th>3383</th>\n",
       "      <td>[0.005203721, 0.06913256, -0.03878217, -0.0709...</td>\n",
       "      <td>Pieter Omtzigt</td>\n",
       "      <td>Pieter Omtzigt_4843.jpg</td>\n",
       "      <td>datasets/images/isolated_train_faces_scraped_m...</td>\n",
       "    </tr>\n",
       "    <tr>\n",
       "      <th>3384</th>\n",
       "      <td>[0.075764656, -0.01678788, -0.01595783, -0.134...</td>\n",
       "      <td>Pieter Omtzigt</td>\n",
       "      <td>Pieter Omtzigt_4856.jpg</td>\n",
       "      <td>datasets/images/isolated_train_faces_scraped_m...</td>\n",
       "    </tr>\n",
       "    <tr>\n",
       "      <th>3385</th>\n",
       "      <td>[0.040902946, -0.0060998634, -0.026712306, -0....</td>\n",
       "      <td>Pieter Omtzigt</td>\n",
       "      <td>Pieter Omtzigt_2599.jpg</td>\n",
       "      <td>datasets/images/isolated_train_faces_scraped_m...</td>\n",
       "    </tr>\n",
       "  </tbody>\n",
       "</table>\n",
       "</div>"
      ],
      "text/plain": [
       "                                              embedding         dataset  \\\n",
       "3383  [0.005203721, 0.06913256, -0.03878217, -0.0709...  Pieter Omtzigt   \n",
       "3384  [0.075764656, -0.01678788, -0.01595783, -0.134...  Pieter Omtzigt   \n",
       "3385  [0.040902946, -0.0060998634, -0.026712306, -0....  Pieter Omtzigt   \n",
       "\n",
       "               image_filename  \\\n",
       "3383  Pieter Omtzigt_4843.jpg   \n",
       "3384  Pieter Omtzigt_4856.jpg   \n",
       "3385  Pieter Omtzigt_2599.jpg   \n",
       "\n",
       "                                             image_path  \n",
       "3383  datasets/images/isolated_train_faces_scraped_m...  \n",
       "3384  datasets/images/isolated_train_faces_scraped_m...  \n",
       "3385  datasets/images/isolated_train_faces_scraped_m...  "
      ]
     },
     "execution_count": 45,
     "metadata": {},
     "output_type": "execute_result"
    }
   ],
   "source": [
    "print(df_pol_embedded.shape)\n",
    "df_pol_embedded[2564:2567]"
   ]
  },
  {
   "cell_type": "code",
   "execution_count": 46,
   "id": "7a4693f6-4920-4f0d-8b09-4ea8c90f29b5",
   "metadata": {},
   "outputs": [],
   "source": [
    "df_pol_embedded.to_parquet('datasets/embedded_politicians_traintest.parquet')\n",
    "df_pol_embedded.to_csv('datasets/embedded_politicians_traintest.csv')\n",
    "df_pol_embedded.to_excel('datasets/embedded_politicians_traintest.xlsx')"
   ]
  },
  {
   "cell_type": "markdown",
   "id": "b0125f6c-12ae-4b5b-8c01-66928ed564f8",
   "metadata": {},
   "source": [
    "##### Inspect train/test data imbalance with duplicates removed"
   ]
  },
  {
   "cell_type": "code",
   "execution_count": 47,
   "id": "abd89628-5073-4b13-b956-a4d32c4fe36a",
   "metadata": {},
   "outputs": [],
   "source": [
    "unique_values, counts = np.unique(df_pol_embedded['dataset'], return_counts=True)"
   ]
  },
  {
   "cell_type": "code",
   "execution_count": 48,
   "id": "fec5d977-399c-43de-82c0-f9902ffb558a",
   "metadata": {},
   "outputs": [
    {
     "data": {
      "image/png": "[encoded data removed]",
      "text/plain": [
       "<Figure size 1000x600 with 1 Axes>"
      ]
     },
     "metadata": {},
     "output_type": "display_data"
    }
   ],
   "source": [
    "import matplotlib.pyplot as plt\n",
    "\n",
    "plt.figure(figsize=(10, 6))\n",
    "plt.bar(unique_values, counts, color='skyblue')\n",
    "plt.xlabel('Politician')\n",
    "plt.ylabel('Count')\n",
    "plt.title('Counts of unique face embeddings per politician')\n",
    "plt.xticks(rotation=45, ha='right') \n",
    "plt.tight_layout()\n",
    "\n",
    "for i, count in enumerate(counts):\n",
    "    plt.text(i, count + 0.1, str(count), ha='center', va='bottom')\n",
    "\n",
    "plt.show()"
   ]
  },
  {
   "cell_type": "code",
   "execution_count": null,
   "id": "5b2f4017-52e4-48eb-a83d-b6feceb619b6",
   "metadata": {},
   "outputs": [],
   "source": []
  }
 ],
 "metadata": {
  "kernelspec": {
   "display_name": "Python 3 (ipykernel)",
   "language": "python",
   "name": "python3"
  },
  "language_info": {
   "codemirror_mode": {
    "name": "ipython",
    "version": 3
   },
   "file_extension": ".py",
   "mimetype": "text/x-python",
   "name": "python",
   "nbconvert_exporter": "python",
   "pygments_lexer": "ipython3",
   "version": "3.12.0"
  }
 },
 "nbformat": 4,
 "nbformat_minor": 5
}
