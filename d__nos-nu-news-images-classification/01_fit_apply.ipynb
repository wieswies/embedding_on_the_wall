{
 "cells": [
  {
   "cell_type": "code",
   "execution_count": 1,
   "id": "df7528a5-5e14-40f6-85e8-39ed6e7b7f97",
   "metadata": {},
   "outputs": [],
   "source": [
    "from methods_classification import *"
   ]
  },
  {
   "cell_type": "markdown",
   "id": "55f1ffdb-2a3f-4f71-9227-c6f3454df168",
   "metadata": {},
   "source": [
    "This notebook contains:\n",
    "1. Preparation of data structure for classification of news images\n",
    "2. Model implementation - model with the best test results for the current problem was chosen, i.e. Support Vector Machine with RBF kernel\n",
    "3. Copying process of images to the folders with their classification (i.e., if the embedding of news image xx.jpg was labelled to be 'Politician A', then the image xx.jpg is written to that respective folder"
   ]
  },
  {
   "cell_type": "markdown",
   "id": "435bcecb-8c38-406c-9683-d0db7536ed25",
   "metadata": {},
   "source": [
    "## 1. Data infrastructure"
   ]
  },
  {
   "cell_type": "code",
   "execution_count": 2,
   "id": "27a34b63-fce0-4baf-b97e-8257155a4fca",
   "metadata": {},
   "outputs": [],
   "source": [
    "embeddings = pd.read_parquet('datasets/embeddings/embedded_politicians_pca_tsne.parquet')\n",
    "nos_nu_embeddings = pd.read_parquet('datasets/embeddings/embedded_news_images_nos_nu.parquet')"
   ]
  },
  {
   "cell_type": "code",
   "execution_count": 4,
   "id": "1385ff3d-38e4-4c59-bf04-8defb8156857",
   "metadata": {},
   "outputs": [
    {
     "name": "stdout",
     "output_type": "stream",
     "text": [
      "The train/test dataset containing unique embeddings\n",
      "of both politicians and unknowns\n",
      "is of shape (4287, 6)\n",
      "and contains the columns:\n",
      "['embedding', 'dataset', 'image_filename', 'image_path', 'PCA_64D', 'tSNE_2D']\n",
      "\n",
      "\n",
      "The cut-out news images dataset containing unique embeddings\n",
      "of both politicians and unknowns\n",
      "is of shape (11343, 4) with both NOS (N=5627) and NU (N=5716) images\n",
      "and contains the columns:\n",
      "['embedding', 'dataset', 'image_filename', 'image_path']\n"
     ]
    }
   ],
   "source": [
    "print(f'The train/test dataset containing unique embeddings\\nof both politicians and unknowns\\nis of shape {embeddings.shape}\\nand contains the columns:\\n{embeddings.columns.tolist()}\\n\\n')\n",
    "print(f'The cut-out news images dataset containing unique embeddings\\nof both politicians and unknowns\\nis of shape {nos_nu_embeddings.shape} with both NOS (N={nos_nu_embeddings[nos_nu_embeddings['dataset']=='NOS'].shape[0]}) and NU (N={nos_nu_embeddings[nos_nu_embeddings['dataset']=='NU'].shape[0]}) images\\nand contains the columns:\\n{nos_nu_embeddings.columns.tolist()}')"
   ]
  },
  {
   "cell_type": "code",
   "execution_count": 4,
   "id": "c08c0b88-2f54-48c2-be67-76da7b9255f3",
   "metadata": {},
   "outputs": [],
   "source": [
    "label_encoder = LabelEncoder()\n",
    "labels = embeddings['dataset']\n",
    "y = label_encoder.fit_transform(labels)\n",
    "embeddings['dataset_encoded'] = y"
   ]
  },
  {
   "cell_type": "markdown",
   "id": "948118ab-dfb6-47b9-8808-d037b5e5f49e",
   "metadata": {},
   "source": [
    "## 2. Model implementation:\n",
    "## SVM with rbf kernel, 512 dimensions, and threshold 0.4\n",
    "### a. Data preparation\n",
    "The data is no longer split into train and test; all samples are used for improved prediction of the news images"
   ]
  },
  {
   "cell_type": "code",
   "execution_count": 5,
   "id": "1e197dad-9530-43fe-b779-bd57cae4bcd9",
   "metadata": {},
   "outputs": [
    {
     "name": "stdout",
     "output_type": "stream",
     "text": [
      "Samples used to fit the model: (3598, 7)\n",
      "Number of news images to predict: (11343, 512)\n"
     ]
    }
   ],
   "source": [
    "model_data = embeddings[embeddings['dataset'] != 'Unknown']\n",
    "\n",
    "X = np.vstack(model_data['embedding'].values)\n",
    "y = model_data['dataset_encoded']\n",
    "\n",
    "X_news = np.vstack(nos_nu_embeddings['embedding'].values)\n",
    "\n",
    "print(f\"Samples used to fit the model: {model_data.shape}\\nNumber of news images to predict: {X_news.shape}\")"
   ]
  },
  {
   "cell_type": "markdown",
   "id": "94a91b72-27b2-4412-b773-fcef34ecb520",
   "metadata": {},
   "source": [
    "### b. Create pipeline"
   ]
  },
  {
   "cell_type": "code",
   "execution_count": 7,
   "id": "652bfc0e-590a-4f54-a8a8-e7cf24a913a1",
   "metadata": {},
   "outputs": [],
   "source": [
    "pipe_svc = Pipeline([('scaler', StandardScaler()), ('svc_rbf', SVC(kernel='rbf', random_state = 7, probability=True))])"
   ]
  },
  {
   "cell_type": "markdown",
   "id": "63d5a6bd-7f2e-42ab-89e2-b02cce32536d",
   "metadata": {},
   "source": [
    "### c. Fit the pipeline, obtain probabilities"
   ]
  },
  {
   "cell_type": "code",
   "execution_count": 8,
   "id": "a0e12dfc-3071-4087-ac22-5b25bf142119",
   "metadata": {},
   "outputs": [
    {
     "data": {
      "text/html": [
       "<style>#sk-container-id-1 {\n",
       "  /* Definition of color scheme common for light and dark mode */\n",
       "  --sklearn-color-text: black;\n",
       "  --sklearn-color-line: gray;\n",
       "  /* Definition of color scheme for unfitted estimators */\n",
       "  --sklearn-color-unfitted-level-0: #fff5e6;\n",
       "  --sklearn-color-unfitted-level-1: #f6e4d2;\n",
       "  --sklearn-color-unfitted-level-2: #ffe0b3;\n",
       "  --sklearn-color-unfitted-level-3: chocolate;\n",
       "  /* Definition of color scheme for fitted estimators */\n",
       "  --sklearn-color-fitted-level-0: #f0f8ff;\n",
       "  --sklearn-color-fitted-level-1: #d4ebff;\n",
       "  --sklearn-color-fitted-level-2: #b3dbfd;\n",
       "  --sklearn-color-fitted-level-3: cornflowerblue;\n",
       "\n",
       "  /* Specific color for light theme */\n",
       "  --sklearn-color-text-on-default-background: var(--sg-text-color, var(--theme-code-foreground, var(--jp-content-font-color1, black)));\n",
       "  --sklearn-color-background: var(--sg-background-color, var(--theme-background, var(--jp-layout-color0, white)));\n",
       "  --sklearn-color-border-box: var(--sg-text-color, var(--theme-code-foreground, var(--jp-content-font-color1, black)));\n",
       "  --sklearn-color-icon: #696969;\n",
       "\n",
       "  @media (prefers-color-scheme: dark) {\n",
       "    /* Redefinition of color scheme for dark theme */\n",
       "    --sklearn-color-text-on-default-background: var(--sg-text-color, var(--theme-code-foreground, var(--jp-content-font-color1, white)));\n",
       "    --sklearn-color-background: var(--sg-background-color, var(--theme-background, var(--jp-layout-color0, #111)));\n",
       "    --sklearn-color-border-box: var(--sg-text-color, var(--theme-code-foreground, var(--jp-content-font-color1, white)));\n",
       "    --sklearn-color-icon: #878787;\n",
       "  }\n",
       "}\n",
       "\n",
       "#sk-container-id-1 {\n",
       "  color: var(--sklearn-color-text);\n",
       "}\n",
       "\n",
       "#sk-container-id-1 pre {\n",
       "  padding: 0;\n",
       "}\n",
       "\n",
       "#sk-container-id-1 input.sk-hidden--visually {\n",
       "  border: 0;\n",
       "  clip: rect(1px 1px 1px 1px);\n",
       "  clip: rect(1px, 1px, 1px, 1px);\n",
       "  height: 1px;\n",
       "  margin: -1px;\n",
       "  overflow: hidden;\n",
       "  padding: 0;\n",
       "  position: absolute;\n",
       "  width: 1px;\n",
       "}\n",
       "\n",
       "#sk-container-id-1 div.sk-dashed-wrapped {\n",
       "  border: 1px dashed var(--sklearn-color-line);\n",
       "  margin: 0 0.4em 0.5em 0.4em;\n",
       "  box-sizing: border-box;\n",
       "  padding-bottom: 0.4em;\n",
       "  background-color: var(--sklearn-color-background);\n",
       "}\n",
       "\n",
       "#sk-container-id-1 div.sk-container {\n",
       "  /* jupyter's `normalize.less` sets `[hidden] { display: none; }`\n",
       "     but bootstrap.min.css set `[hidden] { display: none !important; }`\n",
       "     so we also need the `!important` here to be able to override the\n",
       "     default hidden behavior on the sphinx rendered scikit-learn.org.\n",
       "     See: https://github.com/scikit-learn/scikit-learn/issues/21755 */\n",
       "  display: inline-block !important;\n",
       "  position: relative;\n",
       "}\n",
       "\n",
       "#sk-container-id-1 div.sk-text-repr-fallback {\n",
       "  display: none;\n",
       "}\n",
       "\n",
       "div.sk-parallel-item,\n",
       "div.sk-serial,\n",
       "div.sk-item {\n",
       "  /* draw centered vertical line to link estimators */\n",
       "  background-image: linear-gradient(var(--sklearn-color-text-on-default-background), var(--sklearn-color-text-on-default-background));\n",
       "  background-size: 2px 100%;\n",
       "  background-repeat: no-repeat;\n",
       "  background-position: center center;\n",
       "}\n",
       "\n",
       "/* Parallel-specific style estimator block */\n",
       "\n",
       "#sk-container-id-1 div.sk-parallel-item::after {\n",
       "  content: \"\";\n",
       "  width: 100%;\n",
       "  border-bottom: 2px solid var(--sklearn-color-text-on-default-background);\n",
       "  flex-grow: 1;\n",
       "}\n",
       "\n",
       "#sk-container-id-1 div.sk-parallel {\n",
       "  display: flex;\n",
       "  align-items: stretch;\n",
       "  justify-content: center;\n",
       "  background-color: var(--sklearn-color-background);\n",
       "  position: relative;\n",
       "}\n",
       "\n",
       "#sk-container-id-1 div.sk-parallel-item {\n",
       "  display: flex;\n",
       "  flex-direction: column;\n",
       "}\n",
       "\n",
       "#sk-container-id-1 div.sk-parallel-item:first-child::after {\n",
       "  align-self: flex-end;\n",
       "  width: 50%;\n",
       "}\n",
       "\n",
       "#sk-container-id-1 div.sk-parallel-item:last-child::after {\n",
       "  align-self: flex-start;\n",
       "  width: 50%;\n",
       "}\n",
       "\n",
       "#sk-container-id-1 div.sk-parallel-item:only-child::after {\n",
       "  width: 0;\n",
       "}\n",
       "\n",
       "/* Serial-specific style estimator block */\n",
       "\n",
       "#sk-container-id-1 div.sk-serial {\n",
       "  display: flex;\n",
       "  flex-direction: column;\n",
       "  align-items: center;\n",
       "  background-color: var(--sklearn-color-background);\n",
       "  padding-right: 1em;\n",
       "  padding-left: 1em;\n",
       "}\n",
       "\n",
       "\n",
       "/* Toggleable style: style used for estimator/Pipeline/ColumnTransformer box that is\n",
       "clickable and can be expanded/collapsed.\n",
       "- Pipeline and ColumnTransformer use this feature and define the default style\n",
       "- Estimators will overwrite some part of the style using the `sk-estimator` class\n",
       "*/\n",
       "\n",
       "/* Pipeline and ColumnTransformer style (default) */\n",
       "\n",
       "#sk-container-id-1 div.sk-toggleable {\n",
       "  /* Default theme specific background. It is overwritten whether we have a\n",
       "  specific estimator or a Pipeline/ColumnTransformer */\n",
       "  background-color: var(--sklearn-color-background);\n",
       "}\n",
       "\n",
       "/* Toggleable label */\n",
       "#sk-container-id-1 label.sk-toggleable__label {\n",
       "  cursor: pointer;\n",
       "  display: block;\n",
       "  width: 100%;\n",
       "  margin-bottom: 0;\n",
       "  padding: 0.5em;\n",
       "  box-sizing: border-box;\n",
       "  text-align: center;\n",
       "}\n",
       "\n",
       "#sk-container-id-1 label.sk-toggleable__label-arrow:before {\n",
       "  /* Arrow on the left of the label */\n",
       "  content: \"▸\";\n",
       "  float: left;\n",
       "  margin-right: 0.25em;\n",
       "  color: var(--sklearn-color-icon);\n",
       "}\n",
       "\n",
       "#sk-container-id-1 label.sk-toggleable__label-arrow:hover:before {\n",
       "  color: var(--sklearn-color-text);\n",
       "}\n",
       "\n",
       "/* Toggleable content - dropdown */\n",
       "\n",
       "#sk-container-id-1 div.sk-toggleable__content {\n",
       "  max-height: 0;\n",
       "  max-width: 0;\n",
       "  overflow: hidden;\n",
       "  text-align: left;\n",
       "  /* unfitted */\n",
       "  background-color: var(--sklearn-color-unfitted-level-0);\n",
       "}\n",
       "\n",
       "#sk-container-id-1 div.sk-toggleable__content.fitted {\n",
       "  /* fitted */\n",
       "  background-color: var(--sklearn-color-fitted-level-0);\n",
       "}\n",
       "\n",
       "#sk-container-id-1 div.sk-toggleable__content pre {\n",
       "  margin: 0.2em;\n",
       "  border-radius: 0.25em;\n",
       "  color: var(--sklearn-color-text);\n",
       "  /* unfitted */\n",
       "  background-color: var(--sklearn-color-unfitted-level-0);\n",
       "}\n",
       "\n",
       "#sk-container-id-1 div.sk-toggleable__content.fitted pre {\n",
       "  /* unfitted */\n",
       "  background-color: var(--sklearn-color-fitted-level-0);\n",
       "}\n",
       "\n",
       "#sk-container-id-1 input.sk-toggleable__control:checked~div.sk-toggleable__content {\n",
       "  /* Expand drop-down */\n",
       "  max-height: 200px;\n",
       "  max-width: 100%;\n",
       "  overflow: auto;\n",
       "}\n",
       "\n",
       "#sk-container-id-1 input.sk-toggleable__control:checked~label.sk-toggleable__label-arrow:before {\n",
       "  content: \"▾\";\n",
       "}\n",
       "\n",
       "/* Pipeline/ColumnTransformer-specific style */\n",
       "\n",
       "#sk-container-id-1 div.sk-label input.sk-toggleable__control:checked~label.sk-toggleable__label {\n",
       "  color: var(--sklearn-color-text);\n",
       "  background-color: var(--sklearn-color-unfitted-level-2);\n",
       "}\n",
       "\n",
       "#sk-container-id-1 div.sk-label.fitted input.sk-toggleable__control:checked~label.sk-toggleable__label {\n",
       "  background-color: var(--sklearn-color-fitted-level-2);\n",
       "}\n",
       "\n",
       "/* Estimator-specific style */\n",
       "\n",
       "/* Colorize estimator box */\n",
       "#sk-container-id-1 div.sk-estimator input.sk-toggleable__control:checked~label.sk-toggleable__label {\n",
       "  /* unfitted */\n",
       "  background-color: var(--sklearn-color-unfitted-level-2);\n",
       "}\n",
       "\n",
       "#sk-container-id-1 div.sk-estimator.fitted input.sk-toggleable__control:checked~label.sk-toggleable__label {\n",
       "  /* fitted */\n",
       "  background-color: var(--sklearn-color-fitted-level-2);\n",
       "}\n",
       "\n",
       "#sk-container-id-1 div.sk-label label.sk-toggleable__label,\n",
       "#sk-container-id-1 div.sk-label label {\n",
       "  /* The background is the default theme color */\n",
       "  color: var(--sklearn-color-text-on-default-background);\n",
       "}\n",
       "\n",
       "/* On hover, darken the color of the background */\n",
       "#sk-container-id-1 div.sk-label:hover label.sk-toggleable__label {\n",
       "  color: var(--sklearn-color-text);\n",
       "  background-color: var(--sklearn-color-unfitted-level-2);\n",
       "}\n",
       "\n",
       "/* Label box, darken color on hover, fitted */\n",
       "#sk-container-id-1 div.sk-label.fitted:hover label.sk-toggleable__label.fitted {\n",
       "  color: var(--sklearn-color-text);\n",
       "  background-color: var(--sklearn-color-fitted-level-2);\n",
       "}\n",
       "\n",
       "/* Estimator label */\n",
       "\n",
       "#sk-container-id-1 div.sk-label label {\n",
       "  font-family: monospace;\n",
       "  font-weight: bold;\n",
       "  display: inline-block;\n",
       "  line-height: 1.2em;\n",
       "}\n",
       "\n",
       "#sk-container-id-1 div.sk-label-container {\n",
       "  text-align: center;\n",
       "}\n",
       "\n",
       "/* Estimator-specific */\n",
       "#sk-container-id-1 div.sk-estimator {\n",
       "  font-family: monospace;\n",
       "  border: 1px dotted var(--sklearn-color-border-box);\n",
       "  border-radius: 0.25em;\n",
       "  box-sizing: border-box;\n",
       "  margin-bottom: 0.5em;\n",
       "  /* unfitted */\n",
       "  background-color: var(--sklearn-color-unfitted-level-0);\n",
       "}\n",
       "\n",
       "#sk-container-id-1 div.sk-estimator.fitted {\n",
       "  /* fitted */\n",
       "  background-color: var(--sklearn-color-fitted-level-0);\n",
       "}\n",
       "\n",
       "/* on hover */\n",
       "#sk-container-id-1 div.sk-estimator:hover {\n",
       "  /* unfitted */\n",
       "  background-color: var(--sklearn-color-unfitted-level-2);\n",
       "}\n",
       "\n",
       "#sk-container-id-1 div.sk-estimator.fitted:hover {\n",
       "  /* fitted */\n",
       "  background-color: var(--sklearn-color-fitted-level-2);\n",
       "}\n",
       "\n",
       "/* Specification for estimator info (e.g. \"i\" and \"?\") */\n",
       "\n",
       "/* Common style for \"i\" and \"?\" */\n",
       "\n",
       ".sk-estimator-doc-link,\n",
       "a:link.sk-estimator-doc-link,\n",
       "a:visited.sk-estimator-doc-link {\n",
       "  float: right;\n",
       "  font-size: smaller;\n",
       "  line-height: 1em;\n",
       "  font-family: monospace;\n",
       "  background-color: var(--sklearn-color-background);\n",
       "  border-radius: 1em;\n",
       "  height: 1em;\n",
       "  width: 1em;\n",
       "  text-decoration: none !important;\n",
       "  margin-left: 1ex;\n",
       "  /* unfitted */\n",
       "  border: var(--sklearn-color-unfitted-level-1) 1pt solid;\n",
       "  color: var(--sklearn-color-unfitted-level-1);\n",
       "}\n",
       "\n",
       ".sk-estimator-doc-link.fitted,\n",
       "a:link.sk-estimator-doc-link.fitted,\n",
       "a:visited.sk-estimator-doc-link.fitted {\n",
       "  /* fitted */\n",
       "  border: var(--sklearn-color-fitted-level-1) 1pt solid;\n",
       "  color: var(--sklearn-color-fitted-level-1);\n",
       "}\n",
       "\n",
       "/* On hover */\n",
       "div.sk-estimator:hover .sk-estimator-doc-link:hover,\n",
       ".sk-estimator-doc-link:hover,\n",
       "div.sk-label-container:hover .sk-estimator-doc-link:hover,\n",
       ".sk-estimator-doc-link:hover {\n",
       "  /* unfitted */\n",
       "  background-color: var(--sklearn-color-unfitted-level-3);\n",
       "  color: var(--sklearn-color-background);\n",
       "  text-decoration: none;\n",
       "}\n",
       "\n",
       "div.sk-estimator.fitted:hover .sk-estimator-doc-link.fitted:hover,\n",
       ".sk-estimator-doc-link.fitted:hover,\n",
       "div.sk-label-container:hover .sk-estimator-doc-link.fitted:hover,\n",
       ".sk-estimator-doc-link.fitted:hover {\n",
       "  /* fitted */\n",
       "  background-color: var(--sklearn-color-fitted-level-3);\n",
       "  color: var(--sklearn-color-background);\n",
       "  text-decoration: none;\n",
       "}\n",
       "\n",
       "/* Span, style for the box shown on hovering the info icon */\n",
       ".sk-estimator-doc-link span {\n",
       "  display: none;\n",
       "  z-index: 9999;\n",
       "  position: relative;\n",
       "  font-weight: normal;\n",
       "  right: .2ex;\n",
       "  padding: .5ex;\n",
       "  margin: .5ex;\n",
       "  width: min-content;\n",
       "  min-width: 20ex;\n",
       "  max-width: 50ex;\n",
       "  color: var(--sklearn-color-text);\n",
       "  box-shadow: 2pt 2pt 4pt #999;\n",
       "  /* unfitted */\n",
       "  background: var(--sklearn-color-unfitted-level-0);\n",
       "  border: .5pt solid var(--sklearn-color-unfitted-level-3);\n",
       "}\n",
       "\n",
       ".sk-estimator-doc-link.fitted span {\n",
       "  /* fitted */\n",
       "  background: var(--sklearn-color-fitted-level-0);\n",
       "  border: var(--sklearn-color-fitted-level-3);\n",
       "}\n",
       "\n",
       ".sk-estimator-doc-link:hover span {\n",
       "  display: block;\n",
       "}\n",
       "\n",
       "/* \"?\"-specific style due to the `<a>` HTML tag */\n",
       "\n",
       "#sk-container-id-1 a.estimator_doc_link {\n",
       "  float: right;\n",
       "  font-size: 1rem;\n",
       "  line-height: 1em;\n",
       "  font-family: monospace;\n",
       "  background-color: var(--sklearn-color-background);\n",
       "  border-radius: 1rem;\n",
       "  height: 1rem;\n",
       "  width: 1rem;\n",
       "  text-decoration: none;\n",
       "  /* unfitted */\n",
       "  color: var(--sklearn-color-unfitted-level-1);\n",
       "  border: var(--sklearn-color-unfitted-level-1) 1pt solid;\n",
       "}\n",
       "\n",
       "#sk-container-id-1 a.estimator_doc_link.fitted {\n",
       "  /* fitted */\n",
       "  border: var(--sklearn-color-fitted-level-1) 1pt solid;\n",
       "  color: var(--sklearn-color-fitted-level-1);\n",
       "}\n",
       "\n",
       "/* On hover */\n",
       "#sk-container-id-1 a.estimator_doc_link:hover {\n",
       "  /* unfitted */\n",
       "  background-color: var(--sklearn-color-unfitted-level-3);\n",
       "  color: var(--sklearn-color-background);\n",
       "  text-decoration: none;\n",
       "}\n",
       "\n",
       "#sk-container-id-1 a.estimator_doc_link.fitted:hover {\n",
       "  /* fitted */\n",
       "  background-color: var(--sklearn-color-fitted-level-3);\n",
       "}\n",
       "</style><div id=\"sk-container-id-1\" class=\"sk-top-container\"><div class=\"sk-text-repr-fallback\"><pre>Pipeline(steps=[(&#x27;scaler&#x27;, StandardScaler()),\n",
       "                (&#x27;svc_rbf&#x27;, SVC(probability=True, random_state=7))])</pre><b>In a Jupyter environment, please rerun this cell to show the HTML representation or trust the notebook. <br />On GitHub, the HTML representation is unable to render, please try loading this page with nbviewer.org.</b></div><div class=\"sk-container\" hidden><div class=\"sk-item sk-dashed-wrapped\"><div class=\"sk-label-container\"><div class=\"sk-label fitted sk-toggleable\"><input class=\"sk-toggleable__control sk-hidden--visually\" id=\"sk-estimator-id-1\" type=\"checkbox\" ><label for=\"sk-estimator-id-1\" class=\"sk-toggleable__label fitted sk-toggleable__label-arrow fitted\">&nbsp;&nbsp;Pipeline<a class=\"sk-estimator-doc-link fitted\" rel=\"noreferrer\" target=\"_blank\" href=\"https://scikit-learn.org/1.4/modules/generated/sklearn.pipeline.Pipeline.html\">?<span>Documentation for Pipeline</span></a><span class=\"sk-estimator-doc-link fitted\">i<span>Fitted</span></span></label><div class=\"sk-toggleable__content fitted\"><pre>Pipeline(steps=[(&#x27;scaler&#x27;, StandardScaler()),\n",
       "                (&#x27;svc_rbf&#x27;, SVC(probability=True, random_state=7))])</pre></div> </div></div><div class=\"sk-serial\"><div class=\"sk-item\"><div class=\"sk-estimator fitted sk-toggleable\"><input class=\"sk-toggleable__control sk-hidden--visually\" id=\"sk-estimator-id-2\" type=\"checkbox\" ><label for=\"sk-estimator-id-2\" class=\"sk-toggleable__label fitted sk-toggleable__label-arrow fitted\">&nbsp;StandardScaler<a class=\"sk-estimator-doc-link fitted\" rel=\"noreferrer\" target=\"_blank\" href=\"https://scikit-learn.org/1.4/modules/generated/sklearn.preprocessing.StandardScaler.html\">?<span>Documentation for StandardScaler</span></a></label><div class=\"sk-toggleable__content fitted\"><pre>StandardScaler()</pre></div> </div></div><div class=\"sk-item\"><div class=\"sk-estimator fitted sk-toggleable\"><input class=\"sk-toggleable__control sk-hidden--visually\" id=\"sk-estimator-id-3\" type=\"checkbox\" ><label for=\"sk-estimator-id-3\" class=\"sk-toggleable__label fitted sk-toggleable__label-arrow fitted\">&nbsp;SVC<a class=\"sk-estimator-doc-link fitted\" rel=\"noreferrer\" target=\"_blank\" href=\"https://scikit-learn.org/1.4/modules/generated/sklearn.svm.SVC.html\">?<span>Documentation for SVC</span></a></label><div class=\"sk-toggleable__content fitted\"><pre>SVC(probability=True, random_state=7)</pre></div> </div></div></div></div></div></div>"
      ],
      "text/plain": [
       "Pipeline(steps=[('scaler', StandardScaler()),\n",
       "                ('svc_rbf', SVC(probability=True, random_state=7))])"
      ]
     },
     "execution_count": 8,
     "metadata": {},
     "output_type": "execute_result"
    }
   ],
   "source": [
    "pipe_svc.fit(X, y)"
   ]
  },
  {
   "cell_type": "code",
   "execution_count": 9,
   "id": "41547b55-f3e5-4fe7-b7a5-d70e7cbabc30",
   "metadata": {},
   "outputs": [],
   "source": [
    "probabilities = pipe_svc.predict_proba(X_news)\n",
    "max_prob_info = [max_probability_info(row) for row in probabilities]\n",
    "pred_class, max_prob = zip(*max_prob_info)"
   ]
  },
  {
   "cell_type": "markdown",
   "id": "e79baacb-ac17-4220-9fc2-a4582ede1c53",
   "metadata": {},
   "source": [
    "### d. Correct predictions for 1) unknown class, 2) with threshold"
   ]
  },
  {
   "cell_type": "code",
   "execution_count": 23,
   "id": "563f0ec9-a64d-4a0a-b374-5b61237e0bf5",
   "metadata": {},
   "outputs": [],
   "source": [
    "# Set threshold\n",
    "threshold_1 = 0.4\n",
    "threshold_2 = 0.7"
   ]
  },
  {
   "cell_type": "code",
   "execution_count": 11,
   "id": "249d9a34-8b01-4021-9f09-70276923b789",
   "metadata": {},
   "outputs": [],
   "source": [
    "# Create DF for easy access\n",
    "df_pred = pd.DataFrame({\n",
    "            'X': X_news.tolist(),\n",
    "            'max_prob': max_prob,\n",
    "            'pred': pred_class\n",
    "        })\n",
    "# Correct argmax function for the class with label 17 at index 16\n",
    "df_pred['pred'] = df_pred['pred'].apply(lambda x: 17 if x == 16 else x)"
   ]
  },
  {
   "cell_type": "code",
   "execution_count": 24,
   "id": "462a5bd3-bba5-4663-b3c3-011dfaea0bc7",
   "metadata": {},
   "outputs": [],
   "source": [
    "# Recalculate predictions with implemented threshold function\n",
    "df_pred['pred_threshold_1'] = df_pred.apply(\n",
    "    lambda row: 16 if row['max_prob'] < threshold_1 else row['pred'], axis=1\n",
    ")\n",
    "df_pred['pred_threshold_2'] = df_pred.apply(\n",
    "    lambda row: 16 if row['max_prob'] < threshold_2 else row['pred'], axis=1\n",
    ")"
   ]
  },
  {
   "cell_type": "code",
   "execution_count": 25,
   "id": "b7fcec33-97fe-408a-8f92-e7d3cf34cf8c",
   "metadata": {},
   "outputs": [],
   "source": [
    "df_pred['pred_threshold_label_1'] = label_encoder.inverse_transform(df_pred['pred_threshold_1'])\n",
    "df_pred['pred_threshold_label_2'] = label_encoder.inverse_transform(df_pred['pred_threshold_2'])"
   ]
  },
  {
   "cell_type": "markdown",
   "id": "6bc1ca50-53c7-42f9-974f-b492ea27511d",
   "metadata": {},
   "source": [
    "## 3. Write images to labelled folders in preparation of manual correction\n",
    "### a. Prepare dataframe"
   ]
  },
  {
   "cell_type": "code",
   "execution_count": 15,
   "id": "b43fc3ca-2efe-49d8-9c44-038207b01e79",
   "metadata": {},
   "outputs": [],
   "source": [
    "nos_nu_embeddings['id'] = nos_nu_embeddings['image_filename'].apply(lambda x: x.split('_')[0])"
   ]
  },
  {
   "cell_type": "code",
   "execution_count": 26,
   "id": "b3c3b7b7-f9c5-41e9-8049-2ec5e543da0a",
   "metadata": {},
   "outputs": [],
   "source": [
    "nos_nu_embeddings['max_prob'] = df_pred['max_prob']\n",
    "nos_nu_embeddings['pred_label_t1'] = df_pred['pred_threshold_label_1']\n",
    "nos_nu_embeddings['pred_label_t2'] = df_pred['pred_threshold_label_2']"
   ]
  },
  {
   "cell_type": "code",
   "execution_count": 29,
   "id": "b349bf51-5d43-408b-9f1e-be186f1ceeea",
   "metadata": {},
   "outputs": [
    {
     "data": {
      "text/plain": [
       "Index(['embedding', 'dataset', 'image_filename', 'image_path', 'max_prob',\n",
       "       'pred_label', 'id', 'pred_label_t1', 'pred_label_t2'],\n",
       "      dtype='object')"
      ]
     },
     "execution_count": 29,
     "metadata": {},
     "output_type": "execute_result"
    }
   ],
   "source": [
    "nos_nu_embeddings.columns"
   ]
  },
  {
   "cell_type": "markdown",
   "id": "3f00d45e-52a1-438a-9e51-d6f74348ce98",
   "metadata": {},
   "source": [
    "### b. Split NOS / NU"
   ]
  },
  {
   "cell_type": "code",
   "execution_count": 32,
   "id": "e7c6224d-5d56-4d60-be25-6f8c7a0e0f00",
   "metadata": {},
   "outputs": [],
   "source": [
    "nos_embeddings = nos_nu_embeddings[nos_nu_embeddings['dataset'] == 'NOS']\n",
    "nu_embeddings = nos_nu_embeddings[nos_nu_embeddings['dataset'] == 'NU']"
   ]
  },
  {
   "cell_type": "markdown",
   "id": "9719d988-ae8f-4007-95cd-c2b6e1a69d76",
   "metadata": {},
   "source": [
    "#### i. NOS"
   ]
  },
  {
   "cell_type": "code",
   "execution_count": 34,
   "id": "a36b7c8d-f7c6-46cc-91fa-ebb31ecb187e",
   "metadata": {},
   "outputs": [],
   "source": [
    "nos_input_folder = 'datasets/images/isolated_news_faces_nos'\n",
    "nos_output_folder_t1 = 'datasets/images/svc_classifications/NOS_t1'\n",
    "nos_output_folder_t2 = 'datasets/images/svc_classifications/NOS_t2'"
   ]
  },
  {
   "cell_type": "code",
   "execution_count": 18,
   "id": "ebb0494e-70c7-4319-9072-c443903cca97",
   "metadata": {},
   "outputs": [],
   "source": [
    "write_classifications_to_folder(nos_input_folder, nos_output_folder_t1, nos_embeddings, 't1')"
   ]
  },
  {
   "cell_type": "code",
   "execution_count": 42,
   "id": "0effba03-7f69-48c3-aa76-a261a30e7a24",
   "metadata": {},
   "outputs": [],
   "source": [
    "write_classifications_to_folder(nos_input_folder, nos_output_folder_t2, nos_embeddings, 't2')"
   ]
  },
  {
   "cell_type": "markdown",
   "id": "9793a136-d366-47a5-a1aa-9c68553b5744",
   "metadata": {},
   "source": [
    "#### ii. NU"
   ]
  },
  {
   "cell_type": "code",
   "execution_count": 36,
   "id": "e9b727d6-e04f-4d81-aa52-edcf69171686",
   "metadata": {},
   "outputs": [],
   "source": [
    "nu_input_folder = 'datasets/images/isolated_news_faces_nu'\n",
    "nu_output_folder_t1 = 'datasets/images/svc_classifications/NU_t1'\n",
    "nu_output_folder_t2 = 'datasets/images/svc_classifications/NU_t2'"
   ]
  },
  {
   "cell_type": "code",
   "execution_count": 20,
   "id": "47e9e800-3eea-4669-a919-2141a02014a7",
   "metadata": {},
   "outputs": [],
   "source": [
    "write_classifications_to_folder(nu_input_folder, nu_output_folder_t1, nu_embeddings, 't1')"
   ]
  },
  {
   "cell_type": "code",
   "execution_count": 43,
   "id": "f0b49bbc-3f5a-444f-b82b-643dfefb627b",
   "metadata": {},
   "outputs": [],
   "source": [
    "write_classifications_to_folder(nu_input_folder, nu_output_folder_t2, nu_embeddings, 't2')"
   ]
  },
  {
   "cell_type": "markdown",
   "id": "aff5180d-8fc3-41c9-aa64-9a98626de5b4",
   "metadata": {},
   "source": [
    "#### iii. Write uncorrected dataframe to file"
   ]
  },
  {
   "cell_type": "code",
   "execution_count": 38,
   "id": "f6b1cef8-cedd-4ccb-8986-034242ce5ea8",
   "metadata": {},
   "outputs": [],
   "source": [
    "nos_nu_embeddings.to_parquet('datasets/embeddings/nos_nu_labelledembeddings_labelled_uncorrected_t1t2.parquet')"
   ]
  },
  {
   "cell_type": "code",
   "execution_count": null,
   "id": "88d35185-630b-46d3-a57a-bd94a87b30a0",
   "metadata": {},
   "outputs": [],
   "source": []
  }
 ],
 "metadata": {
  "kernelspec": {
   "display_name": "Python 3 (ipykernel)",
   "language": "python",
   "name": "python3"
  },
  "language_info": {
   "codemirror_mode": {
    "name": "ipython",
    "version": 3
   },
   "file_extension": ".py",
   "mimetype": "text/x-python",
   "name": "python",
   "nbconvert_exporter": "python",
   "pygments_lexer": "ipython3",
   "version": "3.12.0"
  }
 },
 "nbformat": 4,
 "nbformat_minor": 5
}
